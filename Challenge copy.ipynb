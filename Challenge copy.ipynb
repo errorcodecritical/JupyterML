{
  "cells": [
    {
      "cell_type": "markdown",
      "metadata": {
        "colab_type": "text",
        "id": "view-in-github"
      },
      "source": [
        "<a href=\"https://colab.research.google.com/github/errorcodecritical/JupyterML/blob/main/Challenge.ipynb\" target=\"_parent\"><img src=\"https://colab.research.google.com/assets/colab-badge.svg\" alt=\"Open In Colab\"/></a>"
      ]
    },
    {
      "cell_type": "markdown",
      "metadata": {},
      "source": [
        "# Room Occupancy Estimation using Machine Learning\n",
        "\n",
        "## Introduction\n",
        "\n",
        "This notebook aims to analyze and develop machine learning models for **Room Occupancy Estimation** using non-intrusive environmental sensors such as **temperature, light, sound, CO2, and PIR (Passive Infrared)**. The goal is to predict the number of occupants in a room based on sensor data.\n",
        "\n",
        "This project is developed as part of the **Machine Learning Challenge (Aprendizagem Computacional), 2025** at **DEI, FCT, University of Coimbra**. The objective of the challenge is to identify a real-world classification problem, apply simple machine learning models, and evaluate their effectiveness.\n",
        "\n",
        "## Dataset Information\n",
        "\n",
        "The dataset used in this project is [**Room Occupancy Estimation**](https://archive.ics.uci.edu/dataset/864/room+occupancy+estimation), which consists of **10129 instances and 18 features**. The data was collected over four days in a controlled environment, where occupancy varied between **0 and 3 people**.\n",
        "\n",
        "- **Sensor Types Used:**\n",
        "  - **Temperature**\n",
        "  - **Light**\n",
        "  - **Sound**\n",
        "  - **CO2**\n",
        "  - **Passive Infrared (PIR)**\n",
        "\n",
        "- **Experimental Setup:**\n",
        "  - Data was collected in a **6m x 4.6m room**.\n",
        "  - **7 sensor nodes** were deployed, transmitting data every **30 seconds**.\n",
        "  - The PIR, CO2, and sound sensors required manual calibration.\n",
        "  - The ground truth was manually recorded.\n",
        "\n",
        "## Challenge Goals\n",
        "\n",
        "The primary goals of this challenge are:\n",
        "1. **Problem Identification:** Understand how environmental sensor data can be used for room occupancy estimation.\n",
        "2. **Data Analysis:** Explore the dataset, clean, and preprocess it.\n",
        "3. **Model Construction:** Implement at least **two simple machine learning models** (e.g., Decision Trees, K-Nearest Neighbors, Logistic Regression).\n",
        "4. **Evaluation Metrics:** Assess model performance using appropriate evaluation metrics.\n",
        "5. **Documentation & Submission:** Record findings, methodologies, and challenges faced.\n",
        "\n",
        "## Next Steps\n",
        "\n",
        "1. Load and preprocess the dataset.\n",
        "2. Perform exploratory data analysis (EDA).\n",
        "3. Train and evaluate machine learning models.\n",
        "4. Compare model performance using visualization tools.\n",
        "\n",
        "---"
      ]
    },
    {
      "cell_type": "markdown",
      "metadata": {},
      "source": [
        "Install Required Libs: pip install scikit-learn pandas numpy scipy matplotlib seaborn"
      ]
    },
    {
      "cell_type": "markdown",
      "metadata": {},
      "source": [
        "For report:\n",
        "- DETERMINE PROBLEM, SOLUTION, OBJECTIVE;\n",
        "- BREAKDOWN OF THE DATASET, DESCRIPTION OF VARIABLES AND TARGETS, NUMBER OF NULL VALUES "
      ]
    },
    {
      "cell_type": "code",
      "execution_count": null,
      "metadata": {},
      "outputs": [],
      "source": [
        "from ucimlrepo import fetch_ucirepo \n",
        "  \n",
        "# fetch dataset \n",
        "room_occupancy_estimation = fetch_ucirepo(id=864) \n",
        "  \n",
        "# data (as pandas dataframes) \n",
        "X = room_occupancy_estimation.data.features\n",
        "y = room_occupancy_estimation.data.targets\n",
        "\n",
        "# Get dataset information\n",
        "\n",
        "# Get number of target elements of the same category\n",
        "target_distribution = y.pivot_table(index=[\"Room_Occupancy_Count\"], aggfunc=\"size\")\n"
      ]
    },
    {
      "cell_type": "code",
      "execution_count": null,
      "metadata": {},
      "outputs": [],
      "source": [
        "import seaborn as sns\n",
        "import matplotlib.pyplot as plt\n",
        "\n",
        "# Set a theme for Seaborn plots\n",
        "sns.set_theme()\n",
        "\n",
        "# Histogram of \"Room_Occupancy_Count\"\n",
        "plt.figure(figsize=(10, 6))\n",
        "sns.barplot(x=[\"0\", \"1\", \"2\", \"3\"], y=target_distribution.values)\n",
        "plt.title(\"Room Occupancy Distribution\")\n",
        "plt.xlabel(\"Number of Occupants\")\n",
        "plt.ylabel(\"Occurences\")\n",
        "plt.show()\n",
        "\n",
        "# We can see the dataset is unbalanced. Ruh-roh!"
      ]
    }
  ],
  "metadata": {
    "colab": {
      "authorship_tag": "ABX9TyP0lozUQb04uqOTjFEy2kRL",
      "include_colab_link": true,
      "provenance": [],
      "toc_visible": true
    },
    "kernelspec": {
      "display_name": ".venv",
      "language": "python",
      "name": "python3"
    },
    "language_info": {
      "codemirror_mode": {
        "name": "ipython",
        "version": 3
      },
      "file_extension": ".py",
      "mimetype": "text/x-python",
      "name": "python",
      "nbconvert_exporter": "python",
      "pygments_lexer": "ipython3",
      "version": "3.12.3"
    }
  },
  "nbformat": 4,
  "nbformat_minor": 0
}
